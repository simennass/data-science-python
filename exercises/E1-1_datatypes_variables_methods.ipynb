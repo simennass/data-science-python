{
 "cells": [
  {
   "cell_type": "markdown",
   "metadata": {
    "id": "btPw4mz06tUN"
   },
   "source": [
    "# Datatypes, variables, and methods\n",
    "\n",
    "What values do the variables mass and age have after each of the following statements? Test your answer by executing the lines."
   ]
  },
  {
   "cell_type": "code",
   "execution_count": null,
   "metadata": {
    "id": "cfQGG9HJ6g5W"
   },
   "outputs": [],
   "source": [
    "mass = 47.5\n",
    "age = 122\n",
    "mass = mass * 2.0\n",
    "age = age - 20"
   ]
  },
  {
   "cell_type": "markdown",
   "metadata": {
    "id": "s9aFW19967B0"
   },
   "source": [
    "Python allows you to assign multiple values to multiple variables in one line by separating the variables and values with commas. What does the following program print out?"
   ]
  },
  {
   "cell_type": "code",
   "execution_count": null,
   "metadata": {
    "id": "hUoa9Rhi69Bt"
   },
   "outputs": [],
   "source": [
    "first, second = 'Grace', 'Hopper'\n",
    "third, fourth = second, first\n",
    "print(third, fourth)"
   ]
  },
  {
   "cell_type": "markdown",
   "metadata": {
    "id": "XSfYWJQj6_zR"
   },
   "source": [
    "What are the data types of the following variables?"
   ]
  },
  {
   "cell_type": "code",
   "execution_count": null,
   "metadata": {
    "id": "EQX91tlR7B7N"
   },
   "outputs": [],
   "source": [
    "planet = 'Earth'\n",
    "apples = 5\n",
    "distance = 10.5"
   ]
  },
  {
   "cell_type": "code",
   "execution_count": 8,
   "metadata": {
    "id": "h7jMP-Ru-h73"
   },
   "outputs": [],
   "source": [
    "a_list = [1, 2, 3]\n",
    "a_tuple = (1, 2, 3)"
   ]
  },
  {
   "cell_type": "markdown",
   "metadata": {
    "id": "A4pj3oAZ-j0p"
   },
   "source": [
    "Change the value of the second element in both the list and tuple to 5:"
   ]
  },
  {
   "cell_type": "code",
   "execution_count": null,
   "metadata": {
    "id": "VhBOSIVF-v1G"
   },
   "outputs": [],
   "source": []
  },
  {
   "cell_type": "markdown",
   "metadata": {
    "id": "jzdHagQo-xSX"
   },
   "source": [
    "Write a function `square` that takes a `list` or `tuple` as its argument and returns a respective `list` or `tuple` containing the squares of the values in the original list."
   ]
  },
  {
   "cell_type": "code",
   "execution_count": null,
   "metadata": {
    "id": "QzpBLnTd_7c1"
   },
   "outputs": [],
   "source": []
  },
  {
   "cell_type": "markdown",
   "metadata": {
    "id": "_KKtxE7tAmlT"
   },
   "source": [
    "Write a function `is_number` that takes an argument and returns whether the argument is a number."
   ]
  },
  {
   "cell_type": "code",
   "execution_count": null,
   "metadata": {
    "id": "I71x2I47BNTQ"
   },
   "outputs": [],
   "source": []
  },
  {
   "cell_type": "markdown",
   "metadata": {},
   "source": [
    "Apply your methods `square` to all even numbers between 0 and 50"
   ]
  },
  {
   "cell_type": "code",
   "execution_count": null,
   "metadata": {},
   "outputs": [],
   "source": []
  }
 ],
 "metadata": {
  "colab": {
   "name": "intro_python_data_analysis.ipynb",
   "provenance": []
  },
  "kernelspec": {
   "display_name": "Python 3 (ipykernel)",
   "language": "python",
   "name": "python3"
  },
  "language_info": {
   "codemirror_mode": {
    "name": "ipython",
    "version": 3
   },
   "file_extension": ".py",
   "mimetype": "text/x-python",
   "name": "python",
   "nbconvert_exporter": "python",
   "pygments_lexer": "ipython3",
   "version": "3.10.0"
  }
 },
 "nbformat": 4,
 "nbformat_minor": 4
}
